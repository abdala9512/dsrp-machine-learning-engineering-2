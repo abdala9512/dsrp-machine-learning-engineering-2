{
 "cells": [
  {
   "cell_type": "markdown",
   "id": "57ac89d8-5ec8-429e-b9a6-b3e7bae48221",
   "metadata": {},
   "source": [
    "# Feast + MLFLOW"
   ]
  },
  {
   "cell_type": "code",
   "execution_count": 26,
   "id": "1a249eb4-0c6f-4c79-b20e-142212007e5b",
   "metadata": {},
   "outputs": [
    {
     "data": {
      "text/html": [
       "<pre style=\"white-space:pre;overflow-x:auto;line-height:normal;font-family:Menlo,'DejaVu Sans Mono',consolas,'Courier New',monospace\">Initialized MLflow to track repo <span style=\"color: #008000; text-decoration-color: #008000\">\"abdala9512/dsrp-machine-learning-engineering-2\"</span>\n",
       "</pre>\n"
      ],
      "text/plain": [
       "Initialized MLflow to track repo \u001b[32m\"abdala9512/dsrp-machine-learning-engineering-2\"\u001b[0m\n"
      ]
     },
     "metadata": {},
     "output_type": "display_data"
    },
    {
     "data": {
      "text/html": [
       "<pre style=\"white-space:pre;overflow-x:auto;line-height:normal;font-family:Menlo,'DejaVu Sans Mono',consolas,'Courier New',monospace\">Repository abdala9512/dsrp-machine-learning-engineering-<span style=\"color: #008080; text-decoration-color: #008080; font-weight: bold\">2</span> initialized!\n",
       "</pre>\n"
      ],
      "text/plain": [
       "Repository abdala9512/dsrp-machine-learning-engineering-\u001b[1;36m2\u001b[0m initialized!\n"
      ]
     },
     "metadata": {},
     "output_type": "display_data"
    }
   ],
   "source": [
    "import pandas as pd\n",
    "from feast import FeatureStore\n",
    "import mlflow\n",
    "import dagshub\n",
    "\n",
    "import random\n",
    "import numpy as np\n",
    "\n",
    "from sklearn.dummy import DummyClassifier\n",
    "from sklearn.tree import DecisionTreeClassifier\n",
    "from sklearn.model_selection import train_test_split\n",
    "from sklearn.pipeline import Pipeline\n",
    "from sklearn.impute import SimpleImputer\n",
    "\n",
    "\n",
    "from sklearn.metrics import accuracy_score, f1_score\n",
    "\n",
    "dagshub.init(repo_owner='abdala9512',\n",
    "             repo_name='dsrp-machine-learning-engineering-2',\n",
    "             mlflow=True)"
   ]
  },
  {
   "cell_type": "code",
   "execution_count": 2,
   "id": "3971befa-ddc5-4888-9501-20dfd0bd0843",
   "metadata": {},
   "outputs": [],
   "source": [
    "fs = FeatureStore(\"../feast_service/fs_dsrp_mle2_jul9/feature_repo/\")"
   ]
  },
  {
   "cell_type": "code",
   "execution_count": 24,
   "id": "1908191a-4096-46d1-a6bc-8c5ac976e540",
   "metadata": {},
   "outputs": [
    {
     "data": {
      "text/html": [
       "<div>\n",
       "<style scoped>\n",
       "    .dataframe tbody tr th:only-of-type {\n",
       "        vertical-align: middle;\n",
       "    }\n",
       "\n",
       "    .dataframe tbody tr th {\n",
       "        vertical-align: top;\n",
       "    }\n",
       "\n",
       "    .dataframe thead th {\n",
       "        text-align: right;\n",
       "    }\n",
       "</style>\n",
       "<table border=\"1\" class=\"dataframe\">\n",
       "  <thead>\n",
       "    <tr style=\"text-align: right;\">\n",
       "      <th></th>\n",
       "      <th>booking_id</th>\n",
       "      <th>kpi1</th>\n",
       "      <th>kpi2</th>\n",
       "      <th>event_timestamp</th>\n",
       "    </tr>\n",
       "  </thead>\n",
       "  <tbody>\n",
       "    <tr>\n",
       "      <th>0</th>\n",
       "      <td>00bb4fea-525b-4757-9f1d-540f131dd5c3</td>\n",
       "      <td>0.769260</td>\n",
       "      <td>-0.283067</td>\n",
       "      <td>2025-07-31 02:22:41.792477+00:00</td>\n",
       "    </tr>\n",
       "    <tr>\n",
       "      <th>1</th>\n",
       "      <td>1236fc59-d92c-4227-8fe8-41f464c5565c</td>\n",
       "      <td>0.278091</td>\n",
       "      <td>-0.195238</td>\n",
       "      <td>2025-07-31 02:22:41.792477+00:00</td>\n",
       "    </tr>\n",
       "    <tr>\n",
       "      <th>2</th>\n",
       "      <td>95f636b8-cbcd-411c-b1fb-4eecebb0e725</td>\n",
       "      <td>1.231688</td>\n",
       "      <td>0.234945</td>\n",
       "      <td>2025-07-31 02:22:41.792477+00:00</td>\n",
       "    </tr>\n",
       "    <tr>\n",
       "      <th>3</th>\n",
       "      <td>eaed376f-bc93-45aa-b173-3aaa028347c8</td>\n",
       "      <td>0.540526</td>\n",
       "      <td>1.898306</td>\n",
       "      <td>2025-07-31 02:22:41.792477+00:00</td>\n",
       "    </tr>\n",
       "    <tr>\n",
       "      <th>4</th>\n",
       "      <td>1629e178-d66f-4fef-a67b-327387aa2e1a</td>\n",
       "      <td>-0.722427</td>\n",
       "      <td>-2.942865</td>\n",
       "      <td>2025-07-31 02:22:41.792477+00:00</td>\n",
       "    </tr>\n",
       "    <tr>\n",
       "      <th>...</th>\n",
       "      <td>...</td>\n",
       "      <td>...</td>\n",
       "      <td>...</td>\n",
       "      <td>...</td>\n",
       "    </tr>\n",
       "    <tr>\n",
       "      <th>995</th>\n",
       "      <td>9bb8ed19-d187-4fcd-bdc1-b9a74a31ad95</td>\n",
       "      <td>-0.117430</td>\n",
       "      <td>-1.994649</td>\n",
       "      <td>2025-07-31 02:22:41.792477+00:00</td>\n",
       "    </tr>\n",
       "    <tr>\n",
       "      <th>996</th>\n",
       "      <td>2de7189e-3638-4961-b5e7-decabf9691a7</td>\n",
       "      <td>-0.319549</td>\n",
       "      <td>-0.754413</td>\n",
       "      <td>2025-07-31 02:22:41.792477+00:00</td>\n",
       "    </tr>\n",
       "    <tr>\n",
       "      <th>997</th>\n",
       "      <td>901bb81b-18af-4709-b39e-4157b0c44c0d</td>\n",
       "      <td>-1.359143</td>\n",
       "      <td>0.872779</td>\n",
       "      <td>2025-07-31 02:22:41.792477+00:00</td>\n",
       "    </tr>\n",
       "    <tr>\n",
       "      <th>998</th>\n",
       "      <td>0efa9a60-0a6f-4d5f-b6c3-2e006584c18c</td>\n",
       "      <td>0.331983</td>\n",
       "      <td>-1.046922</td>\n",
       "      <td>2025-07-31 02:22:41.792477+00:00</td>\n",
       "    </tr>\n",
       "    <tr>\n",
       "      <th>999</th>\n",
       "      <td>8d6aa463-d0fc-49ee-badd-dddab21cecfd</td>\n",
       "      <td>-1.146489</td>\n",
       "      <td>0.384885</td>\n",
       "      <td>2025-07-31 02:22:41.792477+00:00</td>\n",
       "    </tr>\n",
       "  </tbody>\n",
       "</table>\n",
       "<p>1000 rows × 4 columns</p>\n",
       "</div>"
      ],
      "text/plain": [
       "                               booking_id      kpi1      kpi2  \\\n",
       "0    00bb4fea-525b-4757-9f1d-540f131dd5c3  0.769260 -0.283067   \n",
       "1    1236fc59-d92c-4227-8fe8-41f464c5565c  0.278091 -0.195238   \n",
       "2    95f636b8-cbcd-411c-b1fb-4eecebb0e725  1.231688  0.234945   \n",
       "3    eaed376f-bc93-45aa-b173-3aaa028347c8  0.540526  1.898306   \n",
       "4    1629e178-d66f-4fef-a67b-327387aa2e1a -0.722427 -2.942865   \n",
       "..                                    ...       ...       ...   \n",
       "995  9bb8ed19-d187-4fcd-bdc1-b9a74a31ad95 -0.117430 -1.994649   \n",
       "996  2de7189e-3638-4961-b5e7-decabf9691a7 -0.319549 -0.754413   \n",
       "997  901bb81b-18af-4709-b39e-4157b0c44c0d -1.359143  0.872779   \n",
       "998  0efa9a60-0a6f-4d5f-b6c3-2e006584c18c  0.331983 -1.046922   \n",
       "999  8d6aa463-d0fc-49ee-badd-dddab21cecfd -1.146489  0.384885   \n",
       "\n",
       "                     event_timestamp  \n",
       "0   2025-07-31 02:22:41.792477+00:00  \n",
       "1   2025-07-31 02:22:41.792477+00:00  \n",
       "2   2025-07-31 02:22:41.792477+00:00  \n",
       "3   2025-07-31 02:22:41.792477+00:00  \n",
       "4   2025-07-31 02:22:41.792477+00:00  \n",
       "..                               ...  \n",
       "995 2025-07-31 02:22:41.792477+00:00  \n",
       "996 2025-07-31 02:22:41.792477+00:00  \n",
       "997 2025-07-31 02:22:41.792477+00:00  \n",
       "998 2025-07-31 02:22:41.792477+00:00  \n",
       "999 2025-07-31 02:22:41.792477+00:00  \n",
       "\n",
       "[1000 rows x 4 columns]"
      ]
     },
     "execution_count": 24,
     "metadata": {},
     "output_type": "execute_result"
    }
   ],
   "source": [
    "entity_df = pd.DataFrame.from_dict(\n",
    "        {\n",
    "            # entity's join key -> entity values\n",
    "            \"booking_id\": pd.read_parquet(\"../feast_service/fs_dsrp_mle2_jul9/feature_repo/data/bookings_feature_table.parquet\")[\"booking_id\"][:1000].tolist(),\n",
    "            \"kpi1\": [ np.random.normal(0) for i in range(1000)],\n",
    "            \"kpi2\": [ np.random.normal(0) for i in range(1000)],\n",
    "        },\n",
    "    )\n",
    "entity_df[\"event_timestamp\"] = pd.to_datetime(\"now\", utc=True)\n",
    "entity_df\n"
   ]
  },
  {
   "cell_type": "code",
   "execution_count": 29,
   "id": "cb37cc98-d5f9-4617-95e7-803b5ffc77c4",
   "metadata": {},
   "outputs": [
    {
     "data": {
      "text/html": [
       "<div>\n",
       "<style scoped>\n",
       "    .dataframe tbody tr th:only-of-type {\n",
       "        vertical-align: middle;\n",
       "    }\n",
       "\n",
       "    .dataframe tbody tr th {\n",
       "        vertical-align: top;\n",
       "    }\n",
       "\n",
       "    .dataframe thead th {\n",
       "        text-align: right;\n",
       "    }\n",
       "</style>\n",
       "<table border=\"1\" class=\"dataframe\">\n",
       "  <thead>\n",
       "    <tr style=\"text-align: right;\">\n",
       "      <th></th>\n",
       "      <th>booking_id</th>\n",
       "      <th>kpi1</th>\n",
       "      <th>kpi2</th>\n",
       "      <th>event_timestamp</th>\n",
       "      <th>great_feature1</th>\n",
       "      <th>great_feature2</th>\n",
       "      <th>great_feature1_kpi1</th>\n",
       "      <th>great_feature2_kpi2</th>\n",
       "      <th>target</th>\n",
       "    </tr>\n",
       "  </thead>\n",
       "  <tbody>\n",
       "    <tr>\n",
       "      <th>0</th>\n",
       "      <td>00bb4fea-525b-4757-9f1d-540f131dd5c3</td>\n",
       "      <td>0.769260</td>\n",
       "      <td>-0.283067</td>\n",
       "      <td>2025-07-31 02:22:41.792477+00:00</td>\n",
       "      <td>0.510776</td>\n",
       "      <td>0.310417</td>\n",
       "      <td>0.392920</td>\n",
       "      <td>-0.087869</td>\n",
       "      <td>1</td>\n",
       "    </tr>\n",
       "    <tr>\n",
       "      <th>1</th>\n",
       "      <td>1236fc59-d92c-4227-8fe8-41f464c5565c</td>\n",
       "      <td>0.278091</td>\n",
       "      <td>-0.195238</td>\n",
       "      <td>2025-07-31 02:22:41.792477+00:00</td>\n",
       "      <td>0.454727</td>\n",
       "      <td>-0.159782</td>\n",
       "      <td>0.126456</td>\n",
       "      <td>0.031196</td>\n",
       "      <td>0</td>\n",
       "    </tr>\n",
       "    <tr>\n",
       "      <th>2</th>\n",
       "      <td>95f636b8-cbcd-411c-b1fb-4eecebb0e725</td>\n",
       "      <td>1.231688</td>\n",
       "      <td>0.234945</td>\n",
       "      <td>2025-07-31 02:22:41.792477+00:00</td>\n",
       "      <td>-0.900479</td>\n",
       "      <td>-0.999280</td>\n",
       "      <td>-1.109109</td>\n",
       "      <td>-0.234776</td>\n",
       "      <td>0</td>\n",
       "    </tr>\n",
       "    <tr>\n",
       "      <th>3</th>\n",
       "      <td>eaed376f-bc93-45aa-b173-3aaa028347c8</td>\n",
       "      <td>0.540526</td>\n",
       "      <td>1.898306</td>\n",
       "      <td>2025-07-31 02:22:41.792477+00:00</td>\n",
       "      <td>-0.431781</td>\n",
       "      <td>0.680112</td>\n",
       "      <td>-0.233389</td>\n",
       "      <td>1.291061</td>\n",
       "      <td>1</td>\n",
       "    </tr>\n",
       "    <tr>\n",
       "      <th>4</th>\n",
       "      <td>1629e178-d66f-4fef-a67b-327387aa2e1a</td>\n",
       "      <td>-0.722427</td>\n",
       "      <td>-2.942865</td>\n",
       "      <td>2025-07-31 02:22:41.792477+00:00</td>\n",
       "      <td>-0.131863</td>\n",
       "      <td>-0.149217</td>\n",
       "      <td>0.095261</td>\n",
       "      <td>0.439125</td>\n",
       "      <td>0</td>\n",
       "    </tr>\n",
       "    <tr>\n",
       "      <th>...</th>\n",
       "      <td>...</td>\n",
       "      <td>...</td>\n",
       "      <td>...</td>\n",
       "      <td>...</td>\n",
       "      <td>...</td>\n",
       "      <td>...</td>\n",
       "      <td>...</td>\n",
       "      <td>...</td>\n",
       "      <td>...</td>\n",
       "    </tr>\n",
       "    <tr>\n",
       "      <th>995</th>\n",
       "      <td>9b685c47-ac50-4e85-acd2-6492395e6b59</td>\n",
       "      <td>0.571517</td>\n",
       "      <td>-1.061881</td>\n",
       "      <td>2025-07-31 02:22:41.792477+00:00</td>\n",
       "      <td>0.100255</td>\n",
       "      <td>-0.217351</td>\n",
       "      <td>0.057297</td>\n",
       "      <td>0.230801</td>\n",
       "      <td>0</td>\n",
       "    </tr>\n",
       "    <tr>\n",
       "      <th>996</th>\n",
       "      <td>901bb81b-18af-4709-b39e-4157b0c44c0d</td>\n",
       "      <td>-1.359143</td>\n",
       "      <td>0.872779</td>\n",
       "      <td>2025-07-31 02:22:41.792477+00:00</td>\n",
       "      <td>0.405005</td>\n",
       "      <td>-0.239488</td>\n",
       "      <td>-0.550460</td>\n",
       "      <td>-0.209020</td>\n",
       "      <td>1</td>\n",
       "    </tr>\n",
       "    <tr>\n",
       "      <th>997</th>\n",
       "      <td>0efa9a60-0a6f-4d5f-b6c3-2e006584c18c</td>\n",
       "      <td>0.331983</td>\n",
       "      <td>-1.046922</td>\n",
       "      <td>2025-07-31 02:22:41.792477+00:00</td>\n",
       "      <td>-0.118608</td>\n",
       "      <td>0.099774</td>\n",
       "      <td>-0.039376</td>\n",
       "      <td>-0.104456</td>\n",
       "      <td>1</td>\n",
       "    </tr>\n",
       "    <tr>\n",
       "      <th>998</th>\n",
       "      <td>2de7189e-3638-4961-b5e7-decabf9691a7</td>\n",
       "      <td>-0.319549</td>\n",
       "      <td>-0.754413</td>\n",
       "      <td>2025-07-31 02:22:41.792477+00:00</td>\n",
       "      <td>-0.087687</td>\n",
       "      <td>0.155210</td>\n",
       "      <td>0.028020</td>\n",
       "      <td>-0.117092</td>\n",
       "      <td>1</td>\n",
       "    </tr>\n",
       "    <tr>\n",
       "      <th>999</th>\n",
       "      <td>8d6aa463-d0fc-49ee-badd-dddab21cecfd</td>\n",
       "      <td>-1.146489</td>\n",
       "      <td>0.384885</td>\n",
       "      <td>2025-07-31 02:22:41.792477+00:00</td>\n",
       "      <td>-0.142464</td>\n",
       "      <td>0.268143</td>\n",
       "      <td>0.163334</td>\n",
       "      <td>0.103204</td>\n",
       "      <td>0</td>\n",
       "    </tr>\n",
       "  </tbody>\n",
       "</table>\n",
       "<p>1000 rows × 9 columns</p>\n",
       "</div>"
      ],
      "text/plain": [
       "                               booking_id      kpi1      kpi2  \\\n",
       "0    00bb4fea-525b-4757-9f1d-540f131dd5c3  0.769260 -0.283067   \n",
       "1    1236fc59-d92c-4227-8fe8-41f464c5565c  0.278091 -0.195238   \n",
       "2    95f636b8-cbcd-411c-b1fb-4eecebb0e725  1.231688  0.234945   \n",
       "3    eaed376f-bc93-45aa-b173-3aaa028347c8  0.540526  1.898306   \n",
       "4    1629e178-d66f-4fef-a67b-327387aa2e1a -0.722427 -2.942865   \n",
       "..                                    ...       ...       ...   \n",
       "995  9b685c47-ac50-4e85-acd2-6492395e6b59  0.571517 -1.061881   \n",
       "996  901bb81b-18af-4709-b39e-4157b0c44c0d -1.359143  0.872779   \n",
       "997  0efa9a60-0a6f-4d5f-b6c3-2e006584c18c  0.331983 -1.046922   \n",
       "998  2de7189e-3638-4961-b5e7-decabf9691a7 -0.319549 -0.754413   \n",
       "999  8d6aa463-d0fc-49ee-badd-dddab21cecfd -1.146489  0.384885   \n",
       "\n",
       "                     event_timestamp  great_feature1  great_feature2  \\\n",
       "0   2025-07-31 02:22:41.792477+00:00        0.510776        0.310417   \n",
       "1   2025-07-31 02:22:41.792477+00:00        0.454727       -0.159782   \n",
       "2   2025-07-31 02:22:41.792477+00:00       -0.900479       -0.999280   \n",
       "3   2025-07-31 02:22:41.792477+00:00       -0.431781        0.680112   \n",
       "4   2025-07-31 02:22:41.792477+00:00       -0.131863       -0.149217   \n",
       "..                               ...             ...             ...   \n",
       "995 2025-07-31 02:22:41.792477+00:00        0.100255       -0.217351   \n",
       "996 2025-07-31 02:22:41.792477+00:00        0.405005       -0.239488   \n",
       "997 2025-07-31 02:22:41.792477+00:00       -0.118608        0.099774   \n",
       "998 2025-07-31 02:22:41.792477+00:00       -0.087687        0.155210   \n",
       "999 2025-07-31 02:22:41.792477+00:00       -0.142464        0.268143   \n",
       "\n",
       "     great_feature1_kpi1  great_feature2_kpi2  target  \n",
       "0               0.392920            -0.087869       1  \n",
       "1               0.126456             0.031196       0  \n",
       "2              -1.109109            -0.234776       0  \n",
       "3              -0.233389             1.291061       1  \n",
       "4               0.095261             0.439125       0  \n",
       "..                   ...                  ...     ...  \n",
       "995             0.057297             0.230801       0  \n",
       "996            -0.550460            -0.209020       1  \n",
       "997            -0.039376            -0.104456       1  \n",
       "998             0.028020            -0.117092       1  \n",
       "999             0.163334             0.103204       0  \n",
       "\n",
       "[1000 rows x 9 columns]"
      ]
     },
     "execution_count": 29,
     "metadata": {},
     "output_type": "execute_result"
    }
   ],
   "source": [
    "feature_table = fs.get_historical_features(\n",
    "        entity_df=entity_df,\n",
    "        features=[\n",
    "            \"pc_booking_view:great_feature1\",\n",
    "            \"pc_booking_view:great_feature2\",\n",
    "            \"great_feature_view:great_feature1_kpi1\",\n",
    "            \"great_feature_view:great_feature2_kpi2\",\n",
    "        ],\n",
    ").to_df()\n",
    "\n",
    "feature_table[\"target\"] = [random.choice([0,1]) for i in range(1000)]\n",
    "feature_table"
   ]
  },
  {
   "cell_type": "markdown",
   "id": "fcfddd57-60c8-4828-9906-586e9b4f7f83",
   "metadata": {},
   "source": [
    "## Preprocesamiento"
   ]
  },
  {
   "cell_type": "code",
   "execution_count": 30,
   "id": "4f64a123-6009-4dce-8f20-42c6b0605e0b",
   "metadata": {},
   "outputs": [],
   "source": [
    "X, y = feature_table.drop(\"target\", axis=1), feature_table[\"target\"]\n",
    "\n",
    "X_train, X_test, y_train, y_test = train_test_split(X, y, random_state=100)"
   ]
  },
  {
   "cell_type": "markdown",
   "id": "62abb775-a524-48d4-ae49-9620e18f9768",
   "metadata": {},
   "source": [
    "## MLflow"
   ]
  },
  {
   "cell_type": "code",
   "execution_count": 14,
   "id": "3daf2ada-4023-4d25-b800-fe4a74d330e4",
   "metadata": {},
   "outputs": [],
   "source": [
    "mlflow.set_tracking_uri(\"https://dagshub.com/abdala9512/dsrp-machine-learning-engineering-2.mlflow\")"
   ]
  },
  {
   "cell_type": "code",
   "execution_count": 31,
   "id": "45cd3749-b2cc-4863-ad07-052572904c85",
   "metadata": {},
   "outputs": [
    {
     "data": {
      "text/plain": [
       "'5'"
      ]
     },
     "execution_count": 31,
     "metadata": {},
     "output_type": "execute_result"
    }
   ],
   "source": [
    "mlflow.create_experiment(\"DSRP - Booking Clase 30 Julio - Feast + MLFLOW  1000\")"
   ]
  },
  {
   "cell_type": "code",
   "execution_count": 34,
   "id": "36ab4f3f-34f7-436b-80c5-7938469f7341",
   "metadata": {},
   "outputs": [
    {
     "data": {
      "text/plain": [
       "<Experiment: artifact_location='mlflow-artifacts:/cdf0a99c5c4a452a8b6c4dcbb936f8af', creation_time=1753928635369, experiment_id='5', last_update_time=1753928635369, lifecycle_stage='active', name='DSRP - Booking Clase 30 Julio - Feast + MLFLOW  1000', tags={}>"
      ]
     },
     "execution_count": 34,
     "metadata": {},
     "output_type": "execute_result"
    }
   ],
   "source": [
    "mlflow.set_experiment(\"DSRP - Booking Clase 30 Julio - Feast + MLFLOW  1000\")"
   ]
  },
  {
   "cell_type": "code",
   "execution_count": 36,
   "id": "f0fbcb00-f0a4-4dde-98e8-86505dec9c9e",
   "metadata": {},
   "outputs": [
    {
     "name": "stderr",
     "output_type": "stream",
     "text": [
      "2025/07/30 21:29:07 WARNING mlflow.utils.autologging_utils: MLflow sklearn autologging is known to be compatible with 0.24.1 <= scikit-learn <= 1.6.1, but the installed version is 1.7.0. If you encounter errors during autologging, try upgrading / downgrading scikit-learn to a compatible version, or try upgrading MLflow.\n",
      "2025/07/30 21:29:07 INFO mlflow.tracking.fluent: Autologging successfully enabled for sklearn.\n",
      "/Users/miguelarquezabi/dsrp-machine-learning-engineering-2/.venv/lib/python3.12/site-packages/sklearn/metrics/_classification.py:1706: UndefinedMetricWarning: Precision is ill-defined and being set to 0.0 in labels with no predicted samples. Use `zero_division` parameter to control this behavior.\n",
      "  _warn_prf(average, modifier, f\"{metric.capitalize()} is\", result.shape[0])\n",
      "2025/07/30 21:29:09 WARNING mlflow.utils.autologging_utils: MLflow autologging encountered a warning: \"/Users/miguelarquezabi/dsrp-machine-learning-engineering-2/.venv/lib/python3.12/site-packages/mlflow/models/model.py:365: DeprecationWarning: datetime.datetime.utcnow() is deprecated and scheduled for removal in a future version. Use timezone-aware objects to represent datetimes in UTC: datetime.datetime.now(datetime.UTC).\"\n"
     ]
    },
    {
     "name": "stdout",
     "output_type": "stream",
     "text": [
      "🏃 View run Baseline - Dummy Classifier - Con MAS métricas at: https://dagshub.com/abdala9512/dsrp-machine-learning-engineering-2.mlflow/#/experiments/5/runs/be68aa8d06764033ade5c4383c002e28\n",
      "🧪 View experiment at: https://dagshub.com/abdala9512/dsrp-machine-learning-engineering-2.mlflow/#/experiments/5\n"
     ]
    }
   ],
   "source": [
    "mlflow.autolog(log_models=True,)\n",
    "with mlflow.start_run(run_name=\"Baseline - Dummy Classifier - Con MAS métricas\") as run:\n",
    "\n",
    "    algorithm = DummyClassifier()\n",
    "    algorithm.fit(X_train, y_train)\n",
    "\n",
    "    predictions = algorithm.predict(X_test)\n",
    "\n",
    "    _accuracy_score = accuracy_score(y_test, predictions)\n",
    "    _f1_score = f1_score(y_test, predictions)\n",
    "    \n",
    "    mlflow.log_metrics(\n",
    "        {\n",
    "            \"accuracy\": _accuracy_score,\n",
    "            \"f1\": _f1_score,\n",
    "            \"metrica_dsrp\": 100\n",
    "        }   \n",
    "    )"
   ]
  },
  {
   "cell_type": "code",
   "execution_count": null,
   "id": "1cf55ebf-7c59-4122-b858-b39f7508d387",
   "metadata": {},
   "outputs": [],
   "source": []
  }
 ],
 "metadata": {
  "kernelspec": {
   "display_name": "Python 3 (ipykernel)",
   "language": "python",
   "name": "python3"
  },
  "language_info": {
   "codemirror_mode": {
    "name": "ipython",
    "version": 3
   },
   "file_extension": ".py",
   "mimetype": "text/x-python",
   "name": "python",
   "nbconvert_exporter": "python",
   "pygments_lexer": "ipython3",
   "version": "3.12.10"
  }
 },
 "nbformat": 4,
 "nbformat_minor": 5
}
