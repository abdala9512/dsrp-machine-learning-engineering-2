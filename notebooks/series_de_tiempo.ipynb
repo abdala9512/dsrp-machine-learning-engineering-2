{
 "cells": [
  {
   "cell_type": "markdown",
   "metadata": {
    "application/vnd.databricks.v1+cell": {
     "cellMetadata": {},
     "inputWidgets": {},
     "nuid": "04aaec0d-29f4-497a-a701-3cbde42ea036",
     "showTitle": true,
     "tableResultSettingsMap": {},
     "title": ""
    },
    "jupyter": {
     "outputs_hidden": true
    }
   },
   "source": [
    "\n",
    "# Series de tiempo"
   ]
  },
  {
   "cell_type": "code",
   "execution_count": 0,
   "metadata": {
    "application/vnd.databricks.v1+cell": {
     "cellMetadata": {
      "byteLimit": 2048000,
      "rowLimit": 10000
     },
     "inputWidgets": {},
     "nuid": "1b3bf830-2371-4f2c-948a-5526bc224f1e",
     "showTitle": false,
     "tableResultSettingsMap": {},
     "title": ""
    }
   },
   "outputs": [],
   "source": [
    "%pip install pmdarima prophet xgboost"
   ]
  },
  {
   "cell_type": "code",
   "execution_count": 0,
   "metadata": {
    "application/vnd.databricks.v1+cell": {
     "cellMetadata": {
      "byteLimit": 2048000,
      "rowLimit": 10000
     },
     "inputWidgets": {},
     "nuid": "83bc9c77-27f0-4b7f-96ff-067038583e97",
     "showTitle": false,
     "tableResultSettingsMap": {},
     "title": ""
    }
   },
   "outputs": [],
   "source": [
    "import mlflow\n",
    "import pandas as pd\n",
    "import numpy as np\n",
    "\n",
    "from pmdarima import auto_arima\n",
    "\n",
    "import matplotlib.pyplot as plt\n",
    "import seaborn as sns\n",
    "\n",
    "from statsmodels.tsa.seasonal import seasonal_decompose\n",
    "from statsmodels.tsa.holtwinters import ExponentialSmoothing\n",
    "\n",
    "from prophet import Prophet\n",
    "from xgboost import XGBRegressor\n",
    "\n",
    "from sklearn.metrics import mean_absolute_error, mean_absolute_percentage_error, mean_squared_error\n",
    "from sklearn.model_selection import train_test_split\n",
    "from sklearn.linear_model import LinearRegression"
   ]
  },
  {
   "cell_type": "code",
   "execution_count": 0,
   "metadata": {
    "application/vnd.databricks.v1+cell": {
     "cellMetadata": {
      "byteLimit": 2048000,
      "rowLimit": 10000
     },
     "inputWidgets": {},
     "nuid": "0d0febdc-a3c0-4791-9d62-f690936e7b1e",
     "showTitle": false,
     "tableResultSettingsMap": {},
     "title": ""
    }
   },
   "outputs": [],
   "source": [
    "air_passengers = pd.read_csv(\"AirPassengers.csv\")"
   ]
  },
  {
   "cell_type": "code",
   "execution_count": 0,
   "metadata": {
    "application/vnd.databricks.v1+cell": {
     "cellMetadata": {
      "byteLimit": 2048000,
      "rowLimit": 10000
     },
     "inputWidgets": {},
     "nuid": "a74248f8-2cc1-4e7f-b9fa-6ea4df58257a",
     "showTitle": false,
     "tableResultSettingsMap": {},
     "title": ""
    }
   },
   "outputs": [],
   "source": [
    "sns.lineplot(x=air_passengers.index, y='#Passengers', data=air_passengers)\n",
    "plt.show()"
   ]
  },
  {
   "cell_type": "markdown",
   "metadata": {
    "application/vnd.databricks.v1+cell": {
     "cellMetadata": {},
     "inputWidgets": {},
     "nuid": "07c312b2-cf32-4e8b-82bc-9c25d9032d50",
     "showTitle": false,
     "tableResultSettingsMap": {},
     "title": ""
    }
   },
   "source": [
    "\n",
    "## Decompocisión de series de tiempo"
   ]
  },
  {
   "cell_type": "code",
   "execution_count": 0,
   "metadata": {
    "application/vnd.databricks.v1+cell": {
     "cellMetadata": {
      "byteLimit": 2048000,
      "rowLimit": 10000
     },
     "inputWidgets": {},
     "nuid": "e3adc322-37f3-40c2-9993-803fbcfe7370",
     "showTitle": false,
     "tableResultSettingsMap": {},
     "title": ""
    }
   },
   "outputs": [],
   "source": [
    "decomposition = seasonal_decompose(\n",
    "    air_passengers['#Passengers'], \n",
    "    model='aditive', \n",
    "    period=12\n",
    ")"
   ]
  },
  {
   "cell_type": "code",
   "execution_count": 0,
   "metadata": {
    "application/vnd.databricks.v1+cell": {
     "cellMetadata": {
      "byteLimit": 2048000,
      "rowLimit": 10000
     },
     "inputWidgets": {},
     "nuid": "948baaf6-11db-4c4c-b69c-a16f00020e48",
     "showTitle": false,
     "tableResultSettingsMap": {},
     "title": ""
    }
   },
   "outputs": [],
   "source": [
    "decomposition.plot()\n",
    "plt.show()"
   ]
  },
  {
   "cell_type": "markdown",
   "metadata": {
    "application/vnd.databricks.v1+cell": {
     "cellMetadata": {},
     "inputWidgets": {},
     "nuid": "beb88963-5058-4d37-a4d3-f4b493e7a761",
     "showTitle": false,
     "tableResultSettingsMap": {},
     "title": ""
    }
   },
   "source": [
    "\n",
    "## MLflow"
   ]
  },
  {
   "cell_type": "code",
   "execution_count": 0,
   "metadata": {
    "application/vnd.databricks.v1+cell": {
     "cellMetadata": {
      "byteLimit": 2048000,
      "rowLimit": 10000
     },
     "inputWidgets": {},
     "nuid": "9030e52c-52a7-4df9-ac8e-12072d4e3ac7",
     "showTitle": false,
     "tableResultSettingsMap": {},
     "title": ""
    }
   },
   "outputs": [],
   "source": [
    "mlflow.set_registry_uri(\"databricks\")\n",
    "\n",
    "mlflow.create_experiment(\"/Users/miguel.arquez12@gmail.com/Series de Tiempo - DSRP Agosto 6 2025\")"
   ]
  },
  {
   "cell_type": "code",
   "execution_count": 0,
   "metadata": {
    "application/vnd.databricks.v1+cell": {
     "cellMetadata": {
      "byteLimit": 2048000,
      "rowLimit": 10000
     },
     "inputWidgets": {},
     "nuid": "8811842f-dff0-436c-b120-5ff2748b8ed4",
     "showTitle": false,
     "tableResultSettingsMap": {},
     "title": ""
    }
   },
   "outputs": [],
   "source": [
    "mlflow.set_experiment(\"/Users/miguel.arquez12@gmail.com/Series de Tiempo - DSRP Agosto 6 2025\")"
   ]
  },
  {
   "cell_type": "code",
   "execution_count": 0,
   "metadata": {
    "application/vnd.databricks.v1+cell": {
     "cellMetadata": {
      "byteLimit": 2048000,
      "rowLimit": 10000
     },
     "inputWidgets": {},
     "nuid": "1dbd95be-7194-4969-92e5-4df7437218fe",
     "showTitle": false,
     "tableResultSettingsMap": {},
     "title": ""
    }
   },
   "outputs": [],
   "source": [
    "train_air_passengers = air_passengers[:int(len(air_passengers)*0.8)]\n",
    "test_air_passengers = air_passengers[int(len(air_passengers)*0.8):]"
   ]
  },
  {
   "cell_type": "code",
   "execution_count": 0,
   "metadata": {
    "application/vnd.databricks.v1+cell": {
     "cellMetadata": {
      "byteLimit": 2048000,
      "rowLimit": 10000
     },
     "inputWidgets": {},
     "nuid": "0ee492bd-90f2-49e6-ad74-5f69176cf476",
     "showTitle": false,
     "tableResultSettingsMap": {},
     "title": ""
    }
   },
   "outputs": [],
   "source": []
  },
  {
   "cell_type": "code",
   "execution_count": 0,
   "metadata": {
    "application/vnd.databricks.v1+cell": {
     "cellMetadata": {
      "byteLimit": 2048000,
      "rowLimit": 10000
     },
     "inputWidgets": {},
     "nuid": "4b1e4a0a-4506-4ab8-b5d6-45f15ed4f404",
     "showTitle": false,
     "tableResultSettingsMap": {},
     "title": ""
    }
   },
   "outputs": [],
   "source": [
    "model.arima_res_.summary()"
   ]
  },
  {
   "cell_type": "code",
   "execution_count": 0,
   "metadata": {
    "application/vnd.databricks.v1+cell": {
     "cellMetadata": {
      "byteLimit": 2048000,
      "rowLimit": 10000
     },
     "inputWidgets": {},
     "nuid": "d52894c8-540f-417a-a725-440240ca8197",
     "showTitle": false,
     "tableResultSettingsMap": {},
     "title": ""
    }
   },
   "outputs": [],
   "source": [
    "with mlflow.start_run(run_name=\"AUTOARIMA v1\") as run:\n",
    "    model = auto_arima(train_air_passengers['#Passengers'], seasonal=True)\n",
    "    predictions = model.predict(n_periods=len(test_air_passengers))\n",
    "    mae =  mean_absolute_error(\n",
    "        test_air_passengers['#Passengers'].values, predictions\n",
    "    )\n",
    "    mse = mean_squared_error(\n",
    "        test_air_passengers['#Passengers'].values, predictions\n",
    "    )\n",
    "    rmse = mse ** 0.5\n",
    "    mape = mean_absolute_percentage_error(\n",
    "        test_air_passengers['#Passengers'].values, predictions\n",
    "    )\n",
    "\n",
    "    mlflow.log_metric(\"MAE\", mae)\n",
    "    mlflow.log_metric(\"MSE\", mse)\n",
    "    mlflow.log_metric(\"RMSE\", rmse)\n",
    "    mlflow.log_metric(\"MAPE\", mape)\n",
    "\n",
    "    sns.lineplot(x=train_air_passengers.index, y='#Passengers', data=train_air_passengers, label='Train')\n",
    "    sns.lineplot(x=test_air_passengers.index, y='#Passengers', data=test_air_passengers, label='Test')\n",
    "    sns.lineplot(x=test_air_passengers.index, y=predictions, label='Predictions')\n",
    "    mlflow.log_figure(plt.gcf(), \"predictions.png\")\n"
   ]
  },
  {
   "cell_type": "code",
   "execution_count": 0,
   "metadata": {
    "application/vnd.databricks.v1+cell": {
     "cellMetadata": {
      "byteLimit": 2048000,
      "rowLimit": 10000
     },
     "inputWidgets": {},
     "nuid": "ff5ef970-3690-4009-a8ea-966de6ae7f77",
     "showTitle": false,
     "tableResultSettingsMap": {},
     "title": ""
    }
   },
   "outputs": [],
   "source": [
    "with mlflow.start_run(run_name=\"HOTLWINTERS ETS\") as run:\n",
    "    model = ExponentialSmoothing(train_air_passengers['#Passengers'], trend='add', seasonal='add', seasonal_periods=12).fit()\n",
    "    predictions = model.forecast(len(test_air_passengers))\n",
    "    mae =  mean_absolute_error(\n",
    "        test_air_passengers['#Passengers'].values, predictions\n",
    "    )\n",
    "    mse = mean_squared_error(\n",
    "        test_air_passengers['#Passengers'].values, predictions\n",
    "    )\n",
    "    rmse = mse ** 0.5\n",
    "    mape = mean_absolute_percentage_error(\n",
    "        test_air_passengers['#Passengers'].values, predictions\n",
    "    )\n",
    "\n",
    "    mlflow.log_metric(\"MAE\", mae)\n",
    "    mlflow.log_metric(\"MSE\", mse)\n",
    "    mlflow.log_metric(\"RMSE\", rmse)\n",
    "    mlflow.log_metric(\"MAPE\", mape)\n",
    "\n",
    "    sns.lineplot(x=train_air_passengers.index, y='#Passengers', data=train_air_passengers, label='Train')\n",
    "    sns.lineplot(x=test_air_passengers.index, y='#Passengers', data=test_air_passengers, label='Test')\n",
    "    sns.lineplot(x=test_air_passengers.index, y=predictions, label='Predictions')\n",
    "    mlflow.log_figure(plt.gcf(), \"predictions.png\")\n"
   ]
  },
  {
   "cell_type": "code",
   "execution_count": 0,
   "metadata": {
    "application/vnd.databricks.v1+cell": {
     "cellMetadata": {
      "byteLimit": 2048000,
      "rowLimit": 10000
     },
     "inputWidgets": {},
     "nuid": "923ddddc-dfe6-49db-8dd2-280803fa32d0",
     "showTitle": false,
     "tableResultSettingsMap": {},
     "title": ""
    }
   },
   "outputs": [],
   "source": [
    "with mlflow.start_run(run_name=\"PROPHET\") as run:\n",
    "    model = Prophet(yearly_seasonality=True, daily_seasonality=False)\n",
    "    TRAIN_PROPHET_DF = train_air_passengers.rename(columns={'Month': 'ds', '#Passengers': 'y'})\n",
    "    TRAIN_PROPHET_DF[\"ds\"] = pd.to_datetime(TRAIN_PROPHET_DF['ds'])\n",
    "    TEST_PROPHET_DF = test_air_passengers.rename(columns={'Month': 'ds', '#Passengers': 'y'})\n",
    "    TEST_PROPHET_DF[\"ds\"] = pd.to_datetime(TEST_PROPHET_DF['ds'])\n",
    "                                    \n",
    "    model.fit(TRAIN_PROPHET_DF)\n",
    "    predictions = model.predict(TEST_PROPHET_DF)\n",
    "    y_pred = predictions['yhat'].values\n",
    "    \n",
    "    mae = mean_absolute_error(TEST_PROPHET_DF['y'].values, y_pred)\n",
    "    mse = mean_squared_error(TEST_PROPHET_DF['y'].values, y_pred)\n",
    "    rmse = mse ** 0.5\n",
    "    mape = mean_absolute_percentage_error(TEST_PROPHET_DF['y'].values, y_pred)\n",
    "\n",
    "    mlflow.log_metric(\"MAE\", mae)\n",
    "    mlflow.log_metric(\"MSE\", mse)\n",
    "    mlflow.log_metric(\"RMSE\", rmse)\n",
    "    mlflow.log_metric(\"MAPE\", mape)\n",
    "\n",
    "    sns.lineplot(x=train_air_passengers.index, y='#Passengers', data=train_air_passengers, label='Train')\n",
    "    sns.lineplot(x=test_air_passengers.index, y='#Passengers', data=test_air_passengers, label='Test')\n",
    "    sns.lineplot(x=test_air_passengers.index, y=y_pred, label='Predictions')\n",
    "    mlflow.log_figure(plt.gcf(), \"predictions.png\")"
   ]
  },
  {
   "cell_type": "code",
   "execution_count": 0,
   "metadata": {
    "application/vnd.databricks.v1+cell": {
     "cellMetadata": {
      "byteLimit": 2048000,
      "rowLimit": 10000
     },
     "inputWidgets": {},
     "nuid": "f055e02a-1a59-4adc-b45c-e4c516daa670",
     "showTitle": false,
     "tableResultSettingsMap": {},
     "title": ""
    }
   },
   "outputs": [],
   "source": []
  },
  {
   "cell_type": "code",
   "execution_count": 0,
   "metadata": {
    "application/vnd.databricks.v1+cell": {
     "cellMetadata": {
      "byteLimit": 2048000,
      "rowLimit": 10000
     },
     "inputWidgets": {},
     "nuid": "fb07d4d7-1bf3-4427-ab01-2048d06e61ca",
     "showTitle": false,
     "tableResultSettingsMap": {},
     "title": ""
    }
   },
   "outputs": [],
   "source": [
    "with mlflow.start_run(run_name=\"XGBOOST v2\") as run:\n",
    "    model = Prophet(yearly_seasonality=True, daily_seasonality=False)\n",
    "    xgboost_df = air_passengers.rename(columns={'Month': 'ds', '#Passengers': 'y'})\n",
    "    xgboost_df[\"LAG1\"] = xgboost_df['y'].shift(1)\n",
    "    xgboost_df[\"LAG2\"] = xgboost_df['y'].shift(2)\n",
    "    xgboost_df[\"LAG3\"] = xgboost_df['y'].shift(3)\n",
    "    xgboost_df[\"LAG4\"] = xgboost_df['y'].shift(4)\n",
    "    xgboost_df[\"ds\"] = pd.to_datetime(TRAIN_PROPHET_DF['ds'])\n",
    "\n",
    "    X, y = xgboost_df.drop(['y', \"ds\"], axis=1), xgboost_df['y']\n",
    "    X_train, X_test, y_train, y_test = train_test_split(X, y, shuffle=False, random_state=42, test_size=0.2)\n",
    "\n",
    "\n",
    "    xgb = XGBRegressor().fit(X_train, y_train)                          \n",
    "    y_pred = xgb.predict(X_test)\n",
    "    \n",
    "    mae = mean_absolute_error(y_test, y_pred)\n",
    "    mse = mean_squared_error(y_test, y_pred)\n",
    "    rmse = mse ** 0.5\n",
    "    mape = mean_absolute_percentage_error(y_test, y_pred)\n",
    "\n",
    "    mlflow.log_metric(\"MAE\", mae)\n",
    "    mlflow.log_metric(\"MSE\", mse)\n",
    "    mlflow.log_metric(\"RMSE\", rmse)\n",
    "    mlflow.log_metric(\"MAPE\", mape)\n",
    "\n",
    "    sns.lineplot(x=X_train.index, y=y_train,  label='Train')\n",
    "    sns.lineplot(x=X_test.index, y=y_test, label='Test')\n",
    "    sns.lineplot(x=X_test.index, y=y_pred, label='Predictions')\n",
    "    mlflow.log_figure(plt.gcf(), \"predictions.png\")"
   ]
  },
  {
   "cell_type": "markdown",
   "metadata": {
    "application/vnd.databricks.v1+cell": {
     "cellMetadata": {},
     "inputWidgets": {},
     "nuid": "c9efc03d-a283-4d25-8210-3161f89477da",
     "showTitle": false,
     "tableResultSettingsMap": {},
     "title": ""
    }
   },
   "source": [
    "\n",
    "## Ensamble"
   ]
  },
  {
   "cell_type": "code",
   "execution_count": 0,
   "metadata": {
    "application/vnd.databricks.v1+cell": {
     "cellMetadata": {
      "byteLimit": 2048000,
      "rowLimit": 10000
     },
     "inputWidgets": {},
     "nuid": "da2136c1-6b36-45b7-9440-c3bd7f6f08e8",
     "showTitle": false,
     "tableResultSettingsMap": {},
     "title": ""
    }
   },
   "outputs": [],
   "source": [
    "with mlflow.start_run(run_name=\"ENSAMBLE v1\") as run:\n",
    "\n",
    "    ensemble_df = train_air_passengers.rename(columns={'Month': 'ds', '#Passengers': 'y'})\n",
    "    test_ensemble_df = test_air_passengers.rename(columns={'Month': 'ds', '#Passengers': 'y'})\n",
    "\n",
    "\n",
    "    xgboost_ensemble_df = ensemble_df.copy()\n",
    "    xgboost_ensemble_df[\"LAG1\"] = xgboost_ensemble_df['y'].shift(1)\n",
    "    xgboost_ensemble_df[\"LAG2\"] = xgboost_ensemble_df['y'].shift(2)\n",
    "    xgboost_ensemble_df[\"LAG3\"] = xgboost_ensemble_df['y'].shift(3)\n",
    "    xgboost_ensemble_df[\"LAG4\"] = xgboost_ensemble_df['y'].shift(4)\n",
    "\n",
    "\n",
    "    test_xgboost_ensemble_df = test_ensemble_df.copy()\n",
    "    test_xgboost_ensemble_df[\"LAG1\"] = test_xgboost_ensemble_df['y'].shift(1)\n",
    "    test_xgboost_ensemble_df[\"LAG2\"] = test_xgboost_ensemble_df['y'].shift(2)\n",
    "    test_xgboost_ensemble_df[\"LAG3\"] = test_xgboost_ensemble_df['y'].shift(3)\n",
    "    test_xgboost_ensemble_df[\"LAG4\"] = test_xgboost_ensemble_df['y'].shift(4)\n",
    "\n",
    "\n",
    "\n",
    "    X_xgboost, y_xgboost = xgboost_ensemble_df.drop(['y', \"ds\"], axis=1), xgboost_ensemble_df['y']\n",
    "\n",
    "    arima = auto_arima(ensemble_df['y'], seasonal=True)\n",
    "    ets = ExponentialSmoothing(ensemble_df['y'], trend='add', seasonal='add', seasonal_periods=12).fit()\n",
    "    prophet = Prophet(yearly_seasonality=True, daily_seasonality=False)\n",
    "    prophet.fit(ensemble_df)\n",
    "    xgb = XGBRegressor().fit(X_xgboost, y_xgboost)\n",
    "\n",
    "    final_ensemble_df = pd.DataFrame(\n",
    "        {\n",
    "            \"arima\": arima.predict_in_sample(),\n",
    "            \"ets\": ets.fittedvalues,\n",
    "            \"prophet\": prophet.predict(ensemble_df)[\"yhat\"].values,\n",
    "            \"xgboost\": xgb.predict(X_xgboost),\n",
    "            \"exogenous\": np.random.normal(size=len(ensemble_df)),\n",
    "            \"y\" : ensemble_df[\"y\"]\n",
    "\n",
    "\n",
    "        }\n",
    "    )\n",
    "    lr = LinearRegression().fit(final_ensemble_df.drop([\"y\"], axis=1), final_ensemble_df[\"y\"])\n",
    "\n",
    "    test_final_ensemble_df = pd.DataFrame(\n",
    "        {\n",
    "            \"arima\": arima.predict(n_periods=len(test_air_passengers)),\n",
    "            \"ets\": ets.forecast(steps=len(test_air_passengers)),\n",
    "            \"prophet\": prophet.predict(test_ensemble_df)[\"yhat\"].values,\n",
    "            \"xgboost\": xgb.predict(test_xgboost_ensemble_df.drop([\"ds\", \"y\"], axis=1)),\n",
    "            \"exogenous\": np.random.normal(size=len(test_ensemble_df))\n",
    "        }\n",
    "    )\n",
    "\n",
    "    y_pred = lr.predict(test_final_ensemble_df)\n",
    "\n",
    "    mae = mean_absolute_error(test_ensemble_df['y'], y_pred)\n",
    "    mse = mean_squared_error(test_ensemble_df['y'], y_pred)\n",
    "    rmse = mse ** 0.5\n",
    "    mape = mean_absolute_percentage_error(test_ensemble_df['y'], y_pred)\n",
    "\n",
    "    mlflow.log_metric(\"MAE\", mae)\n",
    "    mlflow.log_metric(\"MSE\", mse)\n",
    "    mlflow.log_metric(\"RMSE\", rmse)\n",
    "    mlflow.log_metric(\"MAPE\", mape)\n",
    "    \n",
    "\n",
    "    sns.lineplot(x=ensemble_df.index, y=ensemble_df['y'],  label='Train')\n",
    "    sns.lineplot(x=test_final_ensemble_df.index, y=test_ensemble_df['y'], label='Test')\n",
    "    sns.lineplot(x=test_final_ensemble_df.index, y=lr.predict(test_final_ensemble_df), \n",
    "    label='Predictions Doordash')\n",
    "    sns.lineplot(x=test_final_ensemble_df.index, y=(test_final_ensemble_df[\"arima\"] + test_final_ensemble_df[\"ets\"] + test_final_ensemble_df[\"prophet\"] + test_final_ensemble_df[\"xgboost\"]) / 4\n",
    "    , label='avg predicton')\n",
    "\n",
    "    mlflow.log_figure(plt.gcf(), \"predictions.png\")"
   ]
  },
  {
   "cell_type": "code",
   "execution_count": 0,
   "metadata": {
    "application/vnd.databricks.v1+cell": {
     "cellMetadata": {},
     "inputWidgets": {},
     "nuid": "5c8cc0bc-a498-4b1a-b63e-0d24b6bb4910",
     "showTitle": false,
     "tableResultSettingsMap": {},
     "title": ""
    }
   },
   "outputs": [],
   "source": []
  }
 ],
 "metadata": {
  "application/vnd.databricks.v1+notebook": {
   "computePreferences": {
    "hardware": {
     "accelerator": null,
     "gpuPoolId": null,
     "memory": null
    }
   },
   "dashboards": [],
   "environmentMetadata": {
    "base_environment": "",
    "environment_version": "2"
   },
   "inputWidgetPreferences": null,
   "language": "python",
   "notebookMetadata": {
    "pythonIndentUnit": 4
   },
   "notebookName": "series_de_tiempo",
   "widgets": {}
  },
  "language_info": {
   "name": "python"
  }
 },
 "nbformat": 4,
 "nbformat_minor": 0
}
