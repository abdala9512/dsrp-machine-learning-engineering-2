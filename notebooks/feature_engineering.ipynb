{
 "cells": [
  {
   "cell_type": "markdown",
   "id": "08a15c36-f7ad-4857-905c-7145d6a57220",
   "metadata": {},
   "source": [
    "# Feast: Feature Store\n",
    "\n",
    "![](https://docs.feast.dev/~gitbook/image?url=https%3A%2F%2F2421270310-files.gitbook.io%2F%7E%2Ffiles%2Fv0%2Fb%2Fgitbook-x-prod.appspot.com%2Fo%2Fspaces%252FJzgtwAlzWz17rLGdYz1v%252Fuploads%252Fgit-blob-9f7df7c01969608f5a8b1d48b21f20ddeaed5590%252Ffeast_marchitecture.png%3Falt%3Dmedia&width=768&dpr=2&quality=100&sign=fdb1f669&sv=2)\n"
   ]
  },
  {
   "cell_type": "code",
   "execution_count": 19,
   "id": "943e0718-07d9-4e60-8f58-fd46ae77beb5",
   "metadata": {},
   "outputs": [],
   "source": [
    "import uuid\n",
    "import pandas as pd\n",
    "\n",
    "from feast import FeatureStore\n",
    "from feast import (\n",
    "    Entity,\n",
    "    FeatureService,\n",
    "    FeatureView,\n",
    "    Field,\n",
    "    FileSource\n",
    ")\n",
    "from feast.types import Float32, Float64, Int64, String\n",
    "\n",
    "\n",
    "from sklearn.preprocessing import StandardScaler, RobustScaler, MinMaxScaler\n",
    "from sklearn.impute import KNNImputer, SimpleImputer\n",
    "from sklearn.preprocessing import OneHotEncoder, LabelEncoder, OrdinalEncoder\n",
    "from sklearn.pipeline import Pipeline"
   ]
  },
  {
   "cell_type": "code",
   "execution_count": 41,
   "id": "596cc331-94de-44d9-ad69-d3ca905b7bc3",
   "metadata": {},
   "outputs": [],
   "source": [
    "RAW_DATA_FILEPATH = \"../data/raw/hotel_bookings.csv\"\n",
    "\n",
    "raw_data = pd.read_csv(RAW_DATA_FILEPATH)\n",
    "raw_data[\"booking_id\"] = [str(uuid.uuid4()) for _ in range(raw_data.shape[0]) ]\n",
    "raw_data.to_parquet(\"../feast_service/dsrp_fs_mle2/feature_repo/data/hotel_bookings.parquet\")"
   ]
  },
  {
   "cell_type": "code",
   "execution_count": 42,
   "id": "6f40e02a-7767-41a8-9031-99d1bb35cc7c",
   "metadata": {},
   "outputs": [],
   "source": [
    "class FeatureEngineeringProcessor:\n",
    "\n",
    "    def __init__(self):\n",
    "        pass"
   ]
  },
  {
   "cell_type": "code",
   "execution_count": 3,
   "id": "187d920c-65e0-4db8-98ab-1975dd8d6b07",
   "metadata": {},
   "outputs": [],
   "source": [
    "fs = FeatureStore(repo_path=\"../feast_service/dsrp_fs_mle2/feature_repo/\")"
   ]
  },
  {
   "cell_type": "markdown",
   "id": "661d7cf8-bfe0-48a8-9d1d-9b5c9d6cf272",
   "metadata": {},
   "source": [
    "## Registro Feature Store\n",
    "\n",
    "![](https://docs.feast.dev/~gitbook/image?url=https%3A%2F%2F2421270310-files.gitbook.io%2F%7E%2Ffiles%2Fv0%2Fb%2Fgitbook-x-prod.appspot.com%2Fo%2Fspaces%252FJzgtwAlzWz17rLGdYz1v%252Fuploads%252Fgit-blob-af58d3cf3809fcc5e69119de273668f715f27538%252Fimage%2520%287%29.png%3Falt%3Dmedia&width=768&dpr=4&quality=100&sign=a07b27a7&sv=2)"
   ]
  },
  {
   "cell_type": "code",
   "execution_count": 21,
   "id": "90172efa-5a93-4e6c-ada1-79eec6f39cbf",
   "metadata": {},
   "outputs": [
    {
     "name": "stderr",
     "output_type": "stream",
     "text": [
      "/var/folders/65/xyj4xjq9355355kxr06pqfy80000gn/T/ipykernel_71061/3337471043.py:2: DeprecationWarning: Entity value_type will be mandatory in the next release. Please specify a value_type for entity 'booking'.\n",
      "  booking = Entity(name=\"booking\", join_keys=[\"booking_id\"])\n"
     ]
    }
   ],
   "source": [
    "# Entidad\n",
    "booking = Entity(name=\"booking\", join_keys=[\"booking_id\"])"
   ]
  },
  {
   "cell_type": "code",
   "execution_count": 17,
   "id": "74673bfc-b4e9-4610-b9fe-04d429a3da11",
   "metadata": {},
   "outputs": [],
   "source": [
    "# File Source\n",
    "booking_raw_source = FileSource(\n",
    "    name=\"booking_raw_source\",\n",
    "    path=RAW_DATA_FILEPATH,\n",
    "    timestamp_field=\"event_timestamp\",\n",
    "    created_timestamp_column=\"created\",\n",
    "    file_format=\"csv\"\n",
    ")"
   ]
  },
  {
   "cell_type": "code",
   "execution_count": 23,
   "id": "d0288338-0f05-40bd-bbd3-d6f49c9ee12e",
   "metadata": {},
   "outputs": [],
   "source": [
    "booking_stats_fv = FeatureView(\n",
    "    # The unique name of this feature view. Two feature views in a single\n",
    "    # project cannot have the same name\n",
    "    name=\"booking_monthly_stats\",\n",
    "    entities=[booking],\n",
    "    # The list of features defined below act as a schema to both define features\n",
    "    # for both materialization of features into a store, and are used as references\n",
    "    # during retrieval for building a training dataset or serving features\n",
    "    schema=[\n",
    "        Field(name=\"avg_time\", dtype=Float32),\n",
    "    ],\n",
    "    source=booking_raw_source,\n",
    "    # Tags are user defined key/value pairs that are attached to each\n",
    "    # feature view\n",
    "    tags={\"team\": \"booking_monthly\"},\n",
    ")"
   ]
  },
  {
   "cell_type": "code",
   "execution_count": null,
   "id": "27f0dd87-1df1-4707-95f8-6eca41de4a1d",
   "metadata": {},
   "outputs": [],
   "source": []
  }
 ],
 "metadata": {
  "kernelspec": {
   "display_name": "Python 3 (ipykernel)",
   "language": "python",
   "name": "python3"
  },
  "language_info": {
   "codemirror_mode": {
    "name": "ipython",
    "version": 3
   },
   "file_extension": ".py",
   "mimetype": "text/x-python",
   "name": "python",
   "nbconvert_exporter": "python",
   "pygments_lexer": "ipython3",
   "version": "3.12.10"
  }
 },
 "nbformat": 4,
 "nbformat_minor": 5
}
