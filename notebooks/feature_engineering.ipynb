{
 "cells": [
  {
   "cell_type": "markdown",
   "metadata": {
    "application/vnd.databricks.v1+cell": {
     "cellMetadata": {},
     "inputWidgets": {},
     "nuid": "09de4435-b2a6-4b17-b8a1-d786bee4af5b",
     "showTitle": false,
     "tableResultSettingsMap": {},
     "title": ""
    }
   },
   "source": [
    "# Feast: Feature Store\n",
    "\n",
    "![](https://docs.feast.dev/~gitbook/image?url=https%3A%2F%2F2421270310-files.gitbook.io%2F%7E%2Ffiles%2Fv0%2Fb%2Fgitbook-x-prod.appspot.com%2Fo%2Fspaces%252FJzgtwAlzWz17rLGdYz1v%252Fuploads%252Fgit-blob-9f7df7c01969608f5a8b1d48b21f20ddeaed5590%252Ffeast_marchitecture.png%3Falt%3Dmedia&width=768&dpr=2&quality=100&sign=fdb1f669&sv=2)\n"
   ]
  },
  {
   "cell_type": "code",
   "execution_count": 0,
   "metadata": {
    "application/vnd.databricks.v1+cell": {
     "cellMetadata": {},
     "inputWidgets": {},
     "nuid": "4273a779-1331-4cd8-8ee3-196715d4b891",
     "showTitle": false,
     "tableResultSettingsMap": {},
     "title": ""
    }
   },
   "outputs": [],
   "source": [
    "import uuid\n",
    "import pandas as pd\n",
    "\n",
    "\n",
    "from feast import FeatureStore\n",
    "from feast import (\n",
    "    Entity,\n",
    "    FeatureService,\n",
    "    FeatureView,\n",
    "    Field,\n",
    "    FileSource\n",
    ")\n",
    "from feast.types import Float32, Float64, Int64, String\n",
    "\n",
    "\n",
    "from sklearn.preprocessing import StandardScaler, RobustScaler, MinMaxScaler\n",
    "from sklearn.impute import KNNImputer, SimpleImputer\n",
    "from sklearn.preprocessing import OneHotEncoder, LabelEncoder, OrdinalEncoder\n",
    "from sklearn.pipeline import Pipeline"
   ]
  },
  {
   "cell_type": "code",
   "execution_count": 0,
   "metadata": {
    "application/vnd.databricks.v1+cell": {
     "cellMetadata": {},
     "inputWidgets": {},
     "nuid": "f80d29c0-59e5-422f-9060-ac5785896123",
     "showTitle": false,
     "tableResultSettingsMap": {},
     "title": ""
    }
   },
   "outputs": [],
   "source": [
    "RAW_DATA_FILEPATH = \"../data/raw/hotel_bookings.csv\"\n",
    "\n",
    "raw_data = pd.read_csv(RAW_DATA_FILEPATH)\n",
    "raw_data[\"booking_id\"] = [str(uuid.uuid4()) for _ in range(raw_data.shape[0]) ]\n",
    "raw_data.to_parquet(\"../feast_service/dsrp_fs_mle2/feature_repo/data/hotel_bookings.parquet\")"
   ]
  },
  {
   "cell_type": "code",
   "execution_count": 0,
   "metadata": {
    "application/vnd.databricks.v1+cell": {
     "cellMetadata": {},
     "inputWidgets": {},
     "nuid": "59dbef0f-72f8-462f-8384-4ff3be227dee",
     "showTitle": false,
     "tableResultSettingsMap": {},
     "title": ""
    }
   },
   "outputs": [],
   "source": [
    "class FeatureEngineeringProcessor:\n",
    "\n",
    "    def __init__(self):\n",
    "        pass"
   ]
  },
  {
   "cell_type": "code",
   "execution_count": 0,
   "metadata": {
    "application/vnd.databricks.v1+cell": {
     "cellMetadata": {},
     "inputWidgets": {},
     "nuid": "2552e217-38ff-4f1f-9fe3-5f81eb399779",
     "showTitle": false,
     "tableResultSettingsMap": {},
     "title": ""
    }
   },
   "outputs": [],
   "source": [
    "fs = FeatureStore(repo_path=\"../feast_service/dsrp_fs_mle2/feature_repo/\")"
   ]
  },
  {
   "cell_type": "markdown",
   "metadata": {
    "application/vnd.databricks.v1+cell": {
     "cellMetadata": {},
     "inputWidgets": {},
     "nuid": "c6526fa9-bb7f-4ef5-a63f-ee6d9facd67c",
     "showTitle": false,
     "tableResultSettingsMap": {},
     "title": ""
    }
   },
   "source": [
    "## Registro Feature Store\n",
    "\n",
    "![](https://docs.feast.dev/~gitbook/image?url=https%3A%2F%2F2421270310-files.gitbook.io%2F%7E%2Ffiles%2Fv0%2Fb%2Fgitbook-x-prod.appspot.com%2Fo%2Fspaces%252FJzgtwAlzWz17rLGdYz1v%252Fuploads%252Fgit-blob-af58d3cf3809fcc5e69119de273668f715f27538%252Fimage%2520%287%29.png%3Falt%3Dmedia&width=768&dpr=4&quality=100&sign=a07b27a7&sv=2)"
   ]
  },
  {
   "cell_type": "code",
   "execution_count": 0,
   "metadata": {
    "application/vnd.databricks.v1+cell": {
     "cellMetadata": {},
     "inputWidgets": {},
     "nuid": "c20a93d4-4781-458d-bc1e-b66788320fe5",
     "showTitle": false,
     "tableResultSettingsMap": {},
     "title": ""
    }
   },
   "outputs": [],
   "source": [
    "# Entidad\n",
    "booking = Entity(name=\"booking\", join_keys=[\"booking_id\"])"
   ]
  },
  {
   "cell_type": "code",
   "execution_count": 0,
   "metadata": {
    "application/vnd.databricks.v1+cell": {
     "cellMetadata": {},
     "inputWidgets": {},
     "nuid": "8d47b6d4-24d0-488a-9c19-6a599f464dcd",
     "showTitle": false,
     "tableResultSettingsMap": {},
     "title": ""
    }
   },
   "outputs": [],
   "source": [
    "# File Source\n",
    "booking_raw_source = FileSource(\n",
    "    name=\"booking_raw_source\",\n",
    "    path=RAW_DATA_FILEPATH,\n",
    "    timestamp_field=\"event_timestamp\",\n",
    "    created_timestamp_column=\"created\",\n",
    "    file_format=\"csv\"\n",
    ")"
   ]
  },
  {
   "cell_type": "code",
   "execution_count": 0,
   "metadata": {
    "application/vnd.databricks.v1+cell": {
     "cellMetadata": {},
     "inputWidgets": {},
     "nuid": "08967b81-0a00-4f17-90e2-e5edae14187b",
     "showTitle": false,
     "tableResultSettingsMap": {},
     "title": ""
    }
   },
   "outputs": [],
   "source": [
    "booking_stats_fv = FeatureView(\n",
    "    # The unique name of this feature view. Two feature views in a single\n",
    "    # project cannot have the same name\n",
    "    name=\"booking_monthly_stats\",\n",
    "    entities=[booking],\n",
    "    # The list of features defined below act as a schema to both define features\n",
    "    # for both materialization of features into a store, and are used as references\n",
    "    # during retrieval for building a training dataset or serving features\n",
    "    schema=[\n",
    "        Field(name=\"avg_time\", dtype=Float32),\n",
    "    ],\n",
    "    source=booking_raw_source,\n",
    "    # Tags are user defined key/value pairs that are attached to each\n",
    "    # feature view\n",
    "    tags={\"team\": \"booking_monthly\"},\n",
    ")"
   ]
  },
  {
   "cell_type": "code",
   "execution_count": 0,
   "metadata": {
    "application/vnd.databricks.v1+cell": {
     "cellMetadata": {},
     "inputWidgets": {},
     "nuid": "16e35cc2-a304-48c7-b06c-e5238f495114",
     "showTitle": false,
     "tableResultSettingsMap": {},
     "title": ""
    }
   },
   "outputs": [],
   "source": []
  }
 ],
 "metadata": {
  "application/vnd.databricks.v1+notebook": {
   "computePreferences": null,
   "dashboards": [],
   "environmentMetadata": null,
   "inputWidgetPreferences": null,
   "language": "python",
   "notebookMetadata": {
    "pythonIndentUnit": 4
   },
   "notebookName": "feature_engineering",
   "widgets": {}
  },
  "kernelspec": {
   "display_name": "Python 3 (ipykernel)",
   "language": "python",
   "name": "python3"
  },
  "language_info": {
   "name": "python"
  }
 },
 "nbformat": 4,
 "nbformat_minor": 0
}
